{
 "cells": [
  {
   "cell_type": "code",
   "execution_count": null,
   "id": "291588ed",
   "metadata": {},
   "outputs": [],
   "source": [
    "import sys\n",
    "print(sys.executable)"
   ]
  },
  {
   "cell_type": "code",
   "execution_count": null,
   "id": "518d08fe",
   "metadata": {},
   "outputs": [],
   "source": [
    "import sys\n",
    "print(sys.version)"
   ]
  },
  {
   "cell_type": "code",
   "execution_count": null,
   "id": "81751595",
   "metadata": {},
   "outputs": [],
   "source": [
    "# install rake-nltk\n",
    "!pip install rake-nltk\n",
    "!{sys.executable} -m pip install rake-nltk"
   ]
  },
  {
   "cell_type": "code",
   "execution_count": null,
   "id": "bda3adc7",
   "metadata": {},
   "outputs": [],
   "source": [
    "import rake_nltk\n",
    "print(\"import is successful\")"
   ]
  },
  {
   "cell_type": "code",
   "execution_count": null,
   "id": "f626a845",
   "metadata": {},
   "outputs": [],
   "source": [
    "import pandas as pd"
   ]
  },
  {
   "cell_type": "code",
   "execution_count": null,
   "id": "b511f00c",
   "metadata": {},
   "outputs": [],
   "source": [
    "df = pd.read_csv('translation-ahmedali.csv')\n",
    "translation = df['Translation Verses']"
   ]
  },
  {
   "cell_type": "code",
   "execution_count": null,
   "id": "4788f0cc",
   "metadata": {},
   "outputs": [],
   "source": [
    "from rake_nltk import Rake\n",
    "\n",
    "r = Rake()\n",
    "\n",
    "# function to apply rake\n",
    "def extract_keywords(text):\n",
    "    r.extract_keywords_from_text(text)\n",
    "    return r.get_ranked_phrases()\n",
    "\n",
    "# apply rake to the entire column and store keywords in a extracted keywords column\n",
    "df['Extracted Keywords'] = df['Translation Verses'].apply(lambda x: extract_keywords(str(x)))\n",
    "\n",
    "print(df[['Translation Verses', 'Extracted Keywords']].head())\n",
    "\n",
    "# combine all verses into one large text string for theme extraction\n",
    "combined_text = ' '.join(df['Translation Verses'].astype(str).tolist())\n",
    "\n",
    "# apply RAKE to the combined text\n",
    "r.extract_keywords_from_text(combined_text)\n",
    "\n",
    "# get the top ranked keywords and phrases\n",
    "keywords = r.get_ranked_phrases_with_scores()\n",
    "\n",
    "# print the top 10 keywords and their scores\n",
    "for score, phrase in keywords[:10]:\n",
    "    print(f\"Score: {score}, Phrase: {phrase}\")\n",
    "    \n",
    "    \n",
    "# save the dataframe with extracted keywords\n",
    "df.to_csv('ahmedali-quran_keywords_extracted.csv', index=False)"
   ]
  },
  {
   "cell_type": "code",
   "execution_count": null,
   "id": "d8333c71",
   "metadata": {},
   "outputs": [],
   "source": []
  }
 ],
 "metadata": {
  "kernelspec": {
   "display_name": "Python 3 (ipykernel)",
   "language": "python",
   "name": "python3"
  },
  "language_info": {
   "codemirror_mode": {
    "name": "ipython",
    "version": 3
   },
   "file_extension": ".py",
   "mimetype": "text/x-python",
   "name": "python",
   "nbconvert_exporter": "python",
   "pygments_lexer": "ipython3",
   "version": "3.11.5"
  }
 },
 "nbformat": 4,
 "nbformat_minor": 5
}
