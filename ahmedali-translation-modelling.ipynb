{
 "cells": [
  {
   "cell_type": "code",
   "execution_count": 1,
   "id": "675bc6b1",
   "metadata": {},
   "outputs": [
    {
     "name": "stdout",
     "output_type": "stream",
     "text": [
      "C:\\Users\\alyam\\anaconda3\\python.exe\n"
     ]
    }
   ],
   "source": [
    "import sys\n",
    "print(sys.executable)"
   ]
  },
  {
   "cell_type": "code",
   "execution_count": 2,
   "id": "b69d9e4e",
   "metadata": {},
   "outputs": [
    {
     "name": "stdout",
     "output_type": "stream",
     "text": [
      "3.11.5 | packaged by Anaconda, Inc. | (main, Sep 11 2023, 13:26:23) [MSC v.1916 64 bit (AMD64)]\n"
     ]
    }
   ],
   "source": [
    "import sys\n",
    "print(sys.version)"
   ]
  },
  {
   "cell_type": "code",
   "execution_count": 3,
   "id": "134a66b8",
   "metadata": {},
   "outputs": [
    {
     "name": "stdout",
     "output_type": "stream",
     "text": [
      "Requirement already satisfied: rake-nltk in c:\\users\\alyam\\anaconda3\\lib\\site-packages (1.0.6)\n",
      "Requirement already satisfied: nltk<4.0.0,>=3.6.2 in c:\\users\\alyam\\anaconda3\\lib\\site-packages (from rake-nltk) (3.8.1)\n",
      "Requirement already satisfied: click in c:\\users\\alyam\\anaconda3\\lib\\site-packages (from nltk<4.0.0,>=3.6.2->rake-nltk) (8.0.4)\n",
      "Requirement already satisfied: joblib in c:\\users\\alyam\\anaconda3\\lib\\site-packages (from nltk<4.0.0,>=3.6.2->rake-nltk) (1.2.0)\n",
      "Requirement already satisfied: regex>=2021.8.3 in c:\\users\\alyam\\anaconda3\\lib\\site-packages (from nltk<4.0.0,>=3.6.2->rake-nltk) (2022.7.9)\n",
      "Requirement already satisfied: tqdm in c:\\users\\alyam\\anaconda3\\lib\\site-packages (from nltk<4.0.0,>=3.6.2->rake-nltk) (4.65.0)\n",
      "Requirement already satisfied: colorama in c:\\users\\alyam\\anaconda3\\lib\\site-packages (from click->nltk<4.0.0,>=3.6.2->rake-nltk) (0.4.6)\n",
      "Requirement already satisfied: rake-nltk in c:\\users\\alyam\\anaconda3\\lib\\site-packages (1.0.6)\n",
      "Requirement already satisfied: nltk<4.0.0,>=3.6.2 in c:\\users\\alyam\\anaconda3\\lib\\site-packages (from rake-nltk) (3.8.1)\n",
      "Requirement already satisfied: click in c:\\users\\alyam\\anaconda3\\lib\\site-packages (from nltk<4.0.0,>=3.6.2->rake-nltk) (8.0.4)\n",
      "Requirement already satisfied: joblib in c:\\users\\alyam\\anaconda3\\lib\\site-packages (from nltk<4.0.0,>=3.6.2->rake-nltk) (1.2.0)\n",
      "Requirement already satisfied: regex>=2021.8.3 in c:\\users\\alyam\\anaconda3\\lib\\site-packages (from nltk<4.0.0,>=3.6.2->rake-nltk) (2022.7.9)\n",
      "Requirement already satisfied: tqdm in c:\\users\\alyam\\anaconda3\\lib\\site-packages (from nltk<4.0.0,>=3.6.2->rake-nltk) (4.65.0)\n",
      "Requirement already satisfied: colorama in c:\\users\\alyam\\anaconda3\\lib\\site-packages (from click->nltk<4.0.0,>=3.6.2->rake-nltk) (0.4.6)\n"
     ]
    }
   ],
   "source": [
    "# install rake-nltk\n",
    "!pip install rake-nltk\n",
    "!{sys.executable} -m pip install rake-nltk"
   ]
  },
  {
   "cell_type": "code",
   "execution_count": 4,
   "id": "79ab5ceb",
   "metadata": {},
   "outputs": [
    {
     "name": "stdout",
     "output_type": "stream",
     "text": [
      "import is successful\n"
     ]
    }
   ],
   "source": [
    "import rake_nltk\n",
    "print(\"import is successful\")"
   ]
  },
  {
   "cell_type": "code",
   "execution_count": 5,
   "id": "ab37828e",
   "metadata": {},
   "outputs": [],
   "source": [
    "import pandas as pd"
   ]
  },
  {
   "cell_type": "code",
   "execution_count": 6,
   "id": "1bcfe52f",
   "metadata": {},
   "outputs": [],
   "source": [
    "df = pd.read_csv('translation-ahmedali.csv')\n",
    "translation = df['Translation Verses']"
   ]
  },
  {
   "cell_type": "code",
   "execution_count": 7,
   "id": "70043434",
   "metadata": {},
   "outputs": [
    {
     "name": "stdout",
     "output_type": "stream",
     "text": [
      "                                  Translation Verses  \\\n",
      "0  In the name of Allah, most benevolent, ever-me...   \n",
      "1    ALL PRAISE BE to Allah, Lord of all the worlds,   \n",
      "2                    Most beneficent, ever-merciful,   \n",
      "3                      King of the Day of Judgement.   \n",
      "4  You alone we worship, and to You alone turn fo...   \n",
      "\n",
      "                          Extracted Keywords  \n",
      "0  [name, merciful, ever, benevolent, allah]  \n",
      "1              [worlds, praise, lord, allah]  \n",
      "2               [merciful, ever, beneficent]  \n",
      "3                     [king, judgement, day]  \n",
      "4         [alone turn, alone, worship, help]  \n",
      "Score: 169.0, Phrase: nan nan nan nan nan nan nan nan nan nan nan nan nan\n",
      "Score: 41.91801531801532, Phrase: fermented clay dried tinkling hard like earthen ware\n",
      "Score: 23.285497835497832, Phrase: fermented clay dried tingling hard ?\"\n",
      "Score: 21.338528138528137, Phrase: fermented clay dried tingling hard\n",
      "Score: 21.338528138528137, Phrase: fermented clay dried tingling hard\n",
      "Score: 17.808270103597756, Phrase: day surging like waves pressing one\n",
      "Score: 16.477064220183486, Phrase: blaspheme unsuspecting chaste believing women\n",
      "Score: 16.177971014492755, Phrase: shall bring forth beastly brutes\n",
      "Score: 15.8375, Phrase: thick black smoke neither cool\n",
      "Score: 15.751435587634015, Phrase: foolish among us say preposterous things\n"
     ]
    }
   ],
   "source": [
    "from rake_nltk import Rake\n",
    "\n",
    "r = Rake()\n",
    "\n",
    "# function to apply rake\n",
    "def extract_keywords(text):\n",
    "    r.extract_keywords_from_text(text)\n",
    "    return r.get_ranked_phrases()\n",
    "\n",
    "# apply rake to the entire column and store keywords in a extracted keywords column\n",
    "df['Extracted Keywords'] = df['Translation Verses'].apply(lambda x: extract_keywords(str(x)))\n",
    "\n",
    "print(df[['Translation Verses', 'Extracted Keywords']].head())\n",
    "\n",
    "# combine all verses into one large text string for theme extraction\n",
    "combined_text = ' '.join(df['Translation Verses'].astype(str).tolist())\n",
    "\n",
    "# apply RAKE to the combined text\n",
    "r.extract_keywords_from_text(combined_text)\n",
    "\n",
    "# get the top ranked keywords and phrases\n",
    "keywords = r.get_ranked_phrases_with_scores()\n",
    "\n",
    "# print the top 10 keywords and their scores\n",
    "for score, phrase in keywords[:10]:\n",
    "    print(f\"Score: {score}, Phrase: {phrase}\")\n",
    "    \n",
    "    \n",
    "# save the dataframe with extracted keywords\n",
    "df.to_csv('ahmedali-quran_keywords_extracted.csv', index=False)"
   ]
  },
  {
   "cell_type": "code",
   "execution_count": null,
   "id": "d6203931",
   "metadata": {},
   "outputs": [],
   "source": []
  }
 ],
 "metadata": {
  "kernelspec": {
   "display_name": "Python 3 (ipykernel)",
   "language": "python",
   "name": "python3"
  },
  "language_info": {
   "codemirror_mode": {
    "name": "ipython",
    "version": 3
   },
   "file_extension": ".py",
   "mimetype": "text/x-python",
   "name": "python",
   "nbconvert_exporter": "python",
   "pygments_lexer": "ipython3",
   "version": "3.11.5"
  }
 },
 "nbformat": 4,
 "nbformat_minor": 5
}
