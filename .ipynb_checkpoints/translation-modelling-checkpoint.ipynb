{
 "cells": [
  {
   "cell_type": "code",
   "execution_count": 1,
   "id": "4facfd2c",
   "metadata": {},
   "outputs": [
    {
     "name": "stdout",
     "output_type": "stream",
     "text": [
      "C:\\Users\\alyam\\anaconda3\\python.exe\n"
     ]
    }
   ],
   "source": [
    "import sys\n",
    "print(sys.executable)"
   ]
  },
  {
   "cell_type": "code",
   "execution_count": 2,
   "id": "3636fdbe",
   "metadata": {},
   "outputs": [
    {
     "name": "stdout",
     "output_type": "stream",
     "text": [
      "Requirement already satisfied: rake-nltk in c:\\users\\alyam\\anaconda3\\lib\\site-packages (1.0.6)\n",
      "Requirement already satisfied: nltk<4.0.0,>=3.6.2 in c:\\users\\alyam\\anaconda3\\lib\\site-packages (from rake-nltk) (3.8.1)\n",
      "Requirement already satisfied: click in c:\\users\\alyam\\anaconda3\\lib\\site-packages (from nltk<4.0.0,>=3.6.2->rake-nltk) (8.0.4)\n",
      "Requirement already satisfied: joblib in c:\\users\\alyam\\anaconda3\\lib\\site-packages (from nltk<4.0.0,>=3.6.2->rake-nltk) (1.2.0)\n",
      "Requirement already satisfied: regex>=2021.8.3 in c:\\users\\alyam\\anaconda3\\lib\\site-packages (from nltk<4.0.0,>=3.6.2->rake-nltk) (2022.7.9)\n",
      "Requirement already satisfied: tqdm in c:\\users\\alyam\\anaconda3\\lib\\site-packages (from nltk<4.0.0,>=3.6.2->rake-nltk) (4.65.0)\n",
      "Requirement already satisfied: colorama in c:\\users\\alyam\\anaconda3\\lib\\site-packages (from click->nltk<4.0.0,>=3.6.2->rake-nltk) (0.4.6)\n",
      "Requirement already satisfied: rake-nltk in c:\\users\\alyam\\anaconda3\\lib\\site-packages (1.0.6)\n",
      "Requirement already satisfied: nltk<4.0.0,>=3.6.2 in c:\\users\\alyam\\anaconda3\\lib\\site-packages (from rake-nltk) (3.8.1)\n",
      "Requirement already satisfied: click in c:\\users\\alyam\\anaconda3\\lib\\site-packages (from nltk<4.0.0,>=3.6.2->rake-nltk) (8.0.4)\n",
      "Requirement already satisfied: joblib in c:\\users\\alyam\\anaconda3\\lib\\site-packages (from nltk<4.0.0,>=3.6.2->rake-nltk) (1.2.0)\n",
      "Requirement already satisfied: regex>=2021.8.3 in c:\\users\\alyam\\anaconda3\\lib\\site-packages (from nltk<4.0.0,>=3.6.2->rake-nltk) (2022.7.9)\n",
      "Requirement already satisfied: tqdm in c:\\users\\alyam\\anaconda3\\lib\\site-packages (from nltk<4.0.0,>=3.6.2->rake-nltk) (4.65.0)\n",
      "Requirement already satisfied: colorama in c:\\users\\alyam\\anaconda3\\lib\\site-packages (from click->nltk<4.0.0,>=3.6.2->rake-nltk) (0.4.6)\n"
     ]
    }
   ],
   "source": [
    "# install rake-nltk\n",
    "!pip install rake-nltk\n",
    "!{sys.executable} -m pip install rake-nltk"
   ]
  },
  {
   "cell_type": "code",
   "execution_count": 3,
   "id": "2d81f45a",
   "metadata": {},
   "outputs": [
    {
     "name": "stdout",
     "output_type": "stream",
     "text": [
      "RAKE library is installed and ready.\n"
     ]
    }
   ],
   "source": [
    "import rake_nltk\n",
    "print(\"RAKE library is installed and ready.\")"
   ]
  },
  {
   "cell_type": "code",
   "execution_count": 4,
   "id": "5736b546",
   "metadata": {},
   "outputs": [],
   "source": [
    "# load data\n",
    "import pandas as pd"
   ]
  },
  {
   "cell_type": "code",
   "execution_count": 5,
   "id": "e0a777f4",
   "metadata": {},
   "outputs": [
    {
     "name": "stdout",
     "output_type": "stream",
     "text": [
      "3.11.5 | packaged by Anaconda, Inc. | (main, Sep 11 2023, 13:26:23) [MSC v.1916 64 bit (AMD64)]\n"
     ]
    }
   ],
   "source": [
    "import sys\n",
    "print(sys.version)"
   ]
  },
  {
   "cell_type": "code",
   "execution_count": 6,
   "id": "7609ffe3",
   "metadata": {},
   "outputs": [],
   "source": [
    "df = pd.read_csv('updated_quran_translation.csv')\n",
    "\n",
    "translation = df['Verse Translation']"
   ]
  },
  {
   "cell_type": "code",
   "execution_count": 7,
   "id": "ffd04112",
   "metadata": {},
   "outputs": [
    {
     "name": "stdout",
     "output_type": "stream",
     "text": [
      "                                   Verse Translation  \\\n",
      "0  In the Name of Allah, the Most Beneficent, the...   \n",
      "1  All the praises and thanks be to Allah, the Lo...   \n",
      "2            The Most Beneficent, the Most Merciful.   \n",
      "3  The Only Owner (and the Only Ruling Judge) of ...   \n",
      "4  You (Alone) we worship, and You (Alone) we ask...   \n",
      "\n",
      "                                  Extracted Keywords  \n",
      "0                [name, merciful, beneficent, allah]  \n",
      "1  [‘ alamin, exists )., thanks, praises, mankind...  \n",
      "2                             [merciful, beneficent]  \n",
      "3  [ruling judge, resurrection, recompense, owner...  \n",
      "4  [everything )., worship, help, ask, alone, alone]  \n",
      "Score: 38.86774238760994, Phrase: men .” nan nan nan nan nan\n",
      "Score: 37.7375, Phrase: honourable (‘ abdullah bin ubai bin salul\n",
      "Score: 32.2532673426686, Phrase: like zaid bin ‘ amr bin nufail\n",
      "Score: 28.496491410088034, Phrase: day long ), whose oil would almost glow forth\n",
      "Score: 24.823474681353165, Phrase: god – allah ), la ilaha illa huwa\n",
      "Score: 23.981150891329534, Phrase: saying ): la ilaha illa anta\n",
      "Score: 23.912853908191778, Phrase: prophet muhammad like ‘ abdullah bin salam ),\n",
      "Score: 22.647817557996202, Phrase: saying ): la ilaha illa ana\n",
      "Score: 22.40982218458933, Phrase: khaulah bint tha ’ labah\n",
      "Score: 22.091872791519435, Phrase: allahumma minka wa ilaik ).\n"
     ]
    }
   ],
   "source": [
    "# apply rake\n",
    "# NEED TO FINE TUNE MORE & PREPROCESS LIGHTLY \n",
    "from rake_nltk import Rake\n",
    "\n",
    "r = Rake()\n",
    "\n",
    "# function to apply rake\n",
    "def extract_keywords(text):\n",
    "    r.extract_keywords_from_text(text)\n",
    "    return r.get_ranked_phrases()\n",
    "\n",
    "# apply rake to the entire column and store keywords in a extracted keywords column\n",
    "df['Extracted Keywords'] = df['Verse Translation'].apply(lambda x: extract_keywords(str(x)))\n",
    "\n",
    "print(df[['Verse Translation', 'Extracted Keywords']].head())\n",
    "\n",
    "# combine all verses into one large text string for theme extraction\n",
    "combined_text = ' '.join(df['Verse Translation'].astype(str).tolist())\n",
    "\n",
    "# apply RAKE to the combined text\n",
    "r.extract_keywords_from_text(combined_text)\n",
    "\n",
    "# get the top ranked keywords and phrases\n",
    "keywords = r.get_ranked_phrases_with_scores()\n",
    "\n",
    "# print the top 10 keywords and their scores\n",
    "for score, phrase in keywords[:10]:\n",
    "    print(f\"Score: {score}, Phrase: {phrase}\")\n",
    "    \n",
    "    \n",
    "# save the dataframe with extracted keywords\n",
    "df.to_csv('quran_keywords_extracted.csv', index=False)\n"
   ]
  }
 ],
 "metadata": {
  "kernelspec": {
   "display_name": "Python 3 (ipykernel)",
   "language": "python",
   "name": "python3"
  },
  "language_info": {
   "codemirror_mode": {
    "name": "ipython",
    "version": 3
   },
   "file_extension": ".py",
   "mimetype": "text/x-python",
   "name": "python",
   "nbconvert_exporter": "python",
   "pygments_lexer": "ipython3",
   "version": "3.11.5"
  }
 },
 "nbformat": 4,
 "nbformat_minor": 5
}
