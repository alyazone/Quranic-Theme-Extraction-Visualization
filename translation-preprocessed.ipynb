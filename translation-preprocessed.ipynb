{
 "cells": [
  {
   "cell_type": "code",
   "execution_count": null,
   "id": "ca8106af",
   "metadata": {},
   "outputs": [],
   "source": [
    "pip install nltk"
   ]
  },
  {
   "cell_type": "code",
   "execution_count": null,
   "id": "3696df14",
   "metadata": {},
   "outputs": [],
   "source": [
    "import pandas as pd\n",
    "import re\n",
    "import nltk\n",
    "from nltk.corpus import stopwords\n",
    "from nltk.tokenize import word_tokenize\n",
    "from nltk.stem import PorterStemmer, WordNetLemmatizer\n",
    "\n",
    "# dl NLTK resources\n",
    "nltk.download('punkt')\n",
    "nltk.download('stopwords')\n",
    "nltk.download('wordnet')"
   ]
  },
  {
   "cell_type": "code",
   "execution_count": null,
   "id": "3b960be1",
   "metadata": {},
   "outputs": [],
   "source": [
    "df = pd.read_csv('updated_quran_translation.csv')\n",
    "\n",
    "stop_words = set(stopwords.words('english'))  # stopwords list\n",
    "stemmer = PorterStemmer()  # For stemming\n",
    "lemmatizer = WordNetLemmatizer()  # for lemmatization\n",
    "\n",
    "def clean_text(text):\n",
    "    # remove special characters, punctuation, and unwanted symbols\n",
    "    text = re.sub(r'[^a-zA-Z\\s]', '', text)  # keep only letters and spaces\n",
    "\n",
    "    # convert text to lowercase\n",
    "    text = text.lower()\n",
    "\n",
    "    # remove stopwords\n",
    "    words = word_tokenize(text)\n",
    "    words = [word for word in words if word not in stop_words]\n",
    "    \n",
    "    return ' '.join(words)\n",
    "\n",
    "def stem_text(text):\n",
    "    words = word_tokenize(text)\n",
    "    words = [stemmer.stem(word) for word in words]\n",
    "    return ' '.join(words)\n",
    "\n",
    "def lemmatize_text(text):\n",
    "    words = word_tokenize(text)\n",
    "    words = [lemmatizer.lemmatize(word) for word in words]\n",
    "    return ' '.join(words)\n",
    "\n",
    "\n",
    "df['Cleaned Text'] = df['Verse Translation'].apply(lambda x: clean_text(str(x)))\n",
    "\n",
    "\n",
    "df['Stemmed Text'] = df['Cleaned Text'].apply(lambda x: stem_text(str(x)))  # stemming\n",
    "df['Lemmatized Text'] = df['Cleaned Text'].apply(lambda x: lemmatize_text(str(x)))  # lemmatization\n",
    "\n",
    "df.to_csv('processed_quran_translation.csv', index=False)\n",
    "\n",
    "print(\"Text cleaning, tokenization, and stemming/lemmatization completed successfully.\")\n"
   ]
  }
 ],
 "metadata": {
  "kernelspec": {
   "display_name": "Python 3 (ipykernel)",
   "language": "python",
   "name": "python3"
  },
  "language_info": {
   "codemirror_mode": {
    "name": "ipython",
    "version": 3
   },
   "file_extension": ".py",
   "mimetype": "text/x-python",
   "name": "python",
   "nbconvert_exporter": "python",
   "pygments_lexer": "ipython3",
   "version": "3.11.5"
  }
 },
 "nbformat": 4,
 "nbformat_minor": 5
}
