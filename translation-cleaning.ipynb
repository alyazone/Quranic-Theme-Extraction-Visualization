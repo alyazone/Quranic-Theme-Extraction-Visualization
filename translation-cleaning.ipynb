{
 "cells": [
  {
   "cell_type": "code",
   "execution_count": 2,
   "id": "9c885b23",
   "metadata": {},
   "outputs": [],
   "source": [
    "import pandas as pd"
   ]
  },
  {
   "cell_type": "code",
   "execution_count": 3,
   "id": "295648bb",
   "metadata": {},
   "outputs": [
    {
     "name": "stdout",
     "output_type": "stream",
     "text": [
      "Rows with the footer have been removed and saved to a new file.\n"
     ]
    }
   ],
   "source": [
    "# to remove unwanted data (footer of the NobleQuran website)\n",
    "\n",
    "df = pd.read_csv('translation-scrape-latest.csv')\n",
    "\n",
    "footer_keywords = [\"Copyright © 2020 Noble Quran\", \"Powered by nHancesolutions.com\"]\n",
    "\n",
    "# filter out rows that contain any of these exact footer keywords\n",
    "df_cleaned = df[~df['Verse Translation'].isin(footer_keywords)]\n",
    "\n",
    "df_cleaned.to_csv('cleaned_quran_translations.csv', index=False)\n",
    "\n",
    "print(\"Rows with the footer have been removed and saved to a new file.\")\n"
   ]
  },
  {
   "cell_type": "code",
   "execution_count": null,
   "id": "f20e88d8",
   "metadata": {},
   "outputs": [],
   "source": []
  }
 ],
 "metadata": {
  "kernelspec": {
   "display_name": "Python 3 (ipykernel)",
   "language": "python",
   "name": "python3"
  },
  "language_info": {
   "codemirror_mode": {
    "name": "ipython",
    "version": 3
   },
   "file_extension": ".py",
   "mimetype": "text/x-python",
   "name": "python",
   "nbconvert_exporter": "python",
   "pygments_lexer": "ipython3",
   "version": "3.11.5"
  }
 },
 "nbformat": 4,
 "nbformat_minor": 5
}
