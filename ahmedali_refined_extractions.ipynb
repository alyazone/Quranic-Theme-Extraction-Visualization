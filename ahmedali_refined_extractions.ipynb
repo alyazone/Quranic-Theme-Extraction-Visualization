{
  "nbformat": 4,
  "nbformat_minor": 0,
  "metadata": {
    "colab": {
      "provenance": [],
      "gpuType": "T4",
      "include_colab_link": true
    },
    "kernelspec": {
      "name": "python3",
      "display_name": "Python 3"
    },
    "language_info": {
      "name": "python"
    },
    "accelerator": "GPU"
  },
  "cells": [
    {
      "cell_type": "markdown",
      "metadata": {
        "id": "view-in-github",
        "colab_type": "text"
      },
      "source": [
        "<a href=\"https://colab.research.google.com/github/alyazone/Quranic-Theme-Extraction-Visualization/blob/main/ahmedali_refined_extractions.ipynb\" target=\"_parent\"><img src=\"https://colab.research.google.com/assets/colab-badge.svg\" alt=\"Open In Colab\"/></a>"
      ]
    },
    {
      "cell_type": "code",
      "source": [
        "!pip install transformers\n",
        "!pip install torch"
      ],
      "metadata": {
        "colab": {
          "base_uri": "https://localhost:8080/"
        },
        "id": "w1xVTfFuHen-",
        "outputId": "01f2f6f7-18ba-40bc-d18d-23074af17967"
      },
      "execution_count": null,
      "outputs": [
        {
          "output_type": "stream",
          "name": "stdout",
          "text": [
            "Requirement already satisfied: transformers in /usr/local/lib/python3.10/dist-packages (4.44.2)\n",
            "Requirement already satisfied: filelock in /usr/local/lib/python3.10/dist-packages (from transformers) (3.16.1)\n",
            "Requirement already satisfied: huggingface-hub<1.0,>=0.23.2 in /usr/local/lib/python3.10/dist-packages (from transformers) (0.24.7)\n",
            "Requirement already satisfied: numpy>=1.17 in /usr/local/lib/python3.10/dist-packages (from transformers) (1.26.4)\n",
            "Requirement already satisfied: packaging>=20.0 in /usr/local/lib/python3.10/dist-packages (from transformers) (24.1)\n",
            "Requirement already satisfied: pyyaml>=5.1 in /usr/local/lib/python3.10/dist-packages (from transformers) (6.0.2)\n",
            "Requirement already satisfied: regex!=2019.12.17 in /usr/local/lib/python3.10/dist-packages (from transformers) (2024.9.11)\n",
            "Requirement already satisfied: requests in /usr/local/lib/python3.10/dist-packages (from transformers) (2.32.3)\n",
            "Requirement already satisfied: safetensors>=0.4.1 in /usr/local/lib/python3.10/dist-packages (from transformers) (0.4.5)\n",
            "Requirement already satisfied: tokenizers<0.20,>=0.19 in /usr/local/lib/python3.10/dist-packages (from transformers) (0.19.1)\n",
            "Requirement already satisfied: tqdm>=4.27 in /usr/local/lib/python3.10/dist-packages (from transformers) (4.66.5)\n",
            "Requirement already satisfied: fsspec>=2023.5.0 in /usr/local/lib/python3.10/dist-packages (from huggingface-hub<1.0,>=0.23.2->transformers) (2024.6.1)\n",
            "Requirement already satisfied: typing-extensions>=3.7.4.3 in /usr/local/lib/python3.10/dist-packages (from huggingface-hub<1.0,>=0.23.2->transformers) (4.12.2)\n",
            "Requirement already satisfied: charset-normalizer<4,>=2 in /usr/local/lib/python3.10/dist-packages (from requests->transformers) (3.3.2)\n",
            "Requirement already satisfied: idna<4,>=2.5 in /usr/local/lib/python3.10/dist-packages (from requests->transformers) (3.10)\n",
            "Requirement already satisfied: urllib3<3,>=1.21.1 in /usr/local/lib/python3.10/dist-packages (from requests->transformers) (2.2.3)\n",
            "Requirement already satisfied: certifi>=2017.4.17 in /usr/local/lib/python3.10/dist-packages (from requests->transformers) (2024.8.30)\n",
            "Requirement already satisfied: torch in /usr/local/lib/python3.10/dist-packages (2.4.1+cu121)\n",
            "Requirement already satisfied: filelock in /usr/local/lib/python3.10/dist-packages (from torch) (3.16.1)\n",
            "Requirement already satisfied: typing-extensions>=4.8.0 in /usr/local/lib/python3.10/dist-packages (from torch) (4.12.2)\n",
            "Requirement already satisfied: sympy in /usr/local/lib/python3.10/dist-packages (from torch) (1.13.3)\n",
            "Requirement already satisfied: networkx in /usr/local/lib/python3.10/dist-packages (from torch) (3.3)\n",
            "Requirement already satisfied: jinja2 in /usr/local/lib/python3.10/dist-packages (from torch) (3.1.4)\n",
            "Requirement already satisfied: fsspec in /usr/local/lib/python3.10/dist-packages (from torch) (2024.6.1)\n",
            "Requirement already satisfied: MarkupSafe>=2.0 in /usr/local/lib/python3.10/dist-packages (from jinja2->torch) (2.1.5)\n",
            "Requirement already satisfied: mpmath<1.4,>=1.1.0 in /usr/local/lib/python3.10/dist-packages (from sympy->torch) (1.3.0)\n"
          ]
        }
      ]
    },
    {
      "cell_type": "code",
      "source": [
        "import pandas as pd\n",
        "import torch\n",
        "import re\n",
        "from transformers import pipeline"
      ],
      "metadata": {
        "id": "SHMr4elfLiiX"
      },
      "execution_count": null,
      "outputs": []
    },
    {
      "cell_type": "markdown",
      "source": [
        "Step 1: Clean and Refine Keywords"
      ],
      "metadata": {
        "id": "hyjhiYHoPlJw"
      }
    },
    {
      "cell_type": "code",
      "execution_count": null,
      "metadata": {
        "id": "eDkaCs1-FOjl"
      },
      "outputs": [],
      "source": [
        "# Define function to clean RAKE keywords\n",
        "def clean_keywords(keywords):\n",
        "    \"\"\"\n",
        "    Clean RAKE-extracted keywords by removing special characters,\n",
        "    extra spaces, and converting to lowercase.\n",
        "    \"\"\"\n",
        "    keywords = re.sub(r'[^\\w\\s,]', '', keywords)  # Remove special characters\n",
        "    keywords = keywords.strip().lower()  # Convert to lowercase and strip spaces\n",
        "    return keywords.split(\",\")  # Split into a list\n",
        "\n",
        "# Define function to refine keywords using LLM\n",
        "def refine_keywords_with_llm(keywords, theme):\n",
        "    \"\"\"\n",
        "    Refine keywords using an LLM to remove irrelevant terms\n",
        "    and expand with synonyms related to the theme.\n",
        "    \"\"\"\n",
        "    generator = pipeline(\"text-generation\", model=\"EleutherAI/gpt-neo-2.7B\")\n",
        "    prompt = (\n",
        "        f\"Here are some extracted keywords: {keywords}. \"\n",
        "        f\"The focused theme is '{theme}'. \"\n",
        "        f\"Please remove irrelevant keywords and suggest relevant ones.\"\n",
        "    )\n",
        "    refined = generator(\n",
        "        prompt,\n",
        "        max_new_tokens=50,  # Limit the number of new tokens generated\n",
        "        truncation=True,  # Explicitly enable truncation of the input if necessary\n",
        "        pad_token_id=generator.tokenizer.eos_token_id  # Ensure proper padding\n",
        "    )\n",
        "    return refined[0][\"generated_text\"]\n",
        "\n",
        "# Define mapping of keywords to themes\n",
        "keyword_to_theme = {\n",
        "    \"truth\": \"Truthfulness\",\n",
        "    \"truthfulness\": \"Truthfulness\",\n",
        "    \"truthful\": \"Truthfulness\",\n",
        "    \"Truthfulness\": \"Truthfulness\",\n",
        "    \"honesty\": \"Truthfulness\",\n",
        "    \"honest\": \"Truthfulness\",\n",
        "    \"sincerity\": \"Truthfulness\",\n",
        "    \"sincere\": \"Truthfulness\",\n",
        "    \"sincerity\": \"Truthfulness\",\n",
        "    \"integrity\": \"Truthfulness\",\n",
        "    \"Sincerity\": \"Truthfulness\",\n",
        "    \"candor\": \"Truthfulness\",\n",
        "    \"veracity\": \"Truthfulness\",\n",
        "    \"forgiveness\": \"Forgiveness\",\n",
        "    \"mercy\": \"Forgiveness\",\n",
        "    \"Forgiving\": \"Forgiveness\",\n",
        "    \"forgive\": \"Forgiveness\",\n",
        "    \"forgiving\": \"Forgiveness\",\n",
        "    \"forgave\": \"Forgiveness\",\n",
        "    \"repent\": \"Forgiveness\",\n",
        "    \"repentence\": \"Forgiveness\",\n",
        "    \"merciful\": \"Forgiveness\",\n",
        "    \"Merciful\": \"Forgiveness\",\n",
        "    \"pardon\": \"Forgiveness\",\n",
        "    \"compassion\": \"Forgiveness\",\n",
        "    \"Compassion\": \"Forgiveness\",\n",
        "    \"patience\": \"Patience\",\n",
        "    \"Patience\": \"Patience\",\n",
        "    \"sabr\": \"Patience\",\n",
        "    \"tolerance\": \"Patience\",\n",
        "    \"Tolerance\": \"Patience\",\n",
        "    \"endurance\": \"Patience\",\n",
        "    \"resilience\": \"Patience\",\n",
        "    \"perseverance\": \"Patience\",\n",
        "    \"patient\": \"Patience\",\n",
        "    \"persevere\": \"Patience\",\n",
        "    \"serenity\": \"Patience\",\n",
        "    \"steadfastness\": \"Patience\",\n",
        "    \"gratitude\": \"Gratitude\",\n",
        "    \"Gratitude\": \"Gratitude\",\n",
        "    \"appreciation\": \"Gratitude\",\n",
        "    \"Appreciation\": \"Gratitude\",\n",
        "    \"appreciate\": \"Gratitude\",\n",
        "    \"Thankful\": \"Gratitude\",\n",
        "    \"thankful\": \"Gratitude\",\n",
        "    \"thankfulness\": \"Gratitude\",\n",
        "    \"Grateful\": \"Gratitude\",\n",
        "    \"grateful\": \"Gratitude\",\n",
        "    \"gratefulness\": \"Gratitude\",\n",
        "    \"recognition\": \"Gratitude\",\n",
        "    \"acknowledgement\": \"Gratitude\",\n",
        "    \"obligation\": \"Gratitude\",\n",
        "    \"indebtedness\": \"Gratitude\",\n",
        "    \"Obligation\": \"Gratitude\"\n",
        "}\n",
        "\n",
        "# Function to assign themes based on refined keywords\n",
        "def assign_themes(refined_keywords):\n",
        "    themes = set()\n",
        "    for keyword in refined_keywords:\n",
        "        keyword = keyword.strip()  # Clean each keyword\n",
        "        if keyword in keyword_to_theme:\n",
        "            themes.add(keyword_to_theme[keyword])\n",
        "    return \", \".join(themes) if themes else \"Unknown\"\n"
      ]
    },
    {
      "cell_type": "markdown",
      "source": [
        "Step 2: Process Each File"
      ],
      "metadata": {
        "id": "dF4t4A40PqDR"
      }
    },
    {
      "cell_type": "code",
      "source": [
        "# List of files with their corresponding themes\n",
        "files = [\n",
        "    (\"ahmedali-forgiveness-themes.csv\", \"Forgiveness\"),\n",
        "    (\"ahmedali-truthfulness-themes.csv\", \"Truthfulness\"),\n",
        "    (\"ahmedali-patience-themes.csv.csv\", \"Patience\"),\n",
        "    (\"ahmedali-gratitude-themes.csv\", \"Gratitude\")\n",
        "]\n",
        "\n",
        "processed_data = []\n",
        "\n",
        "# Process each file\n",
        "for file, theme in files:\n",
        "    # Load the dataset\n",
        "    df = pd.read_csv(file)\n",
        "\n",
        "    # Step 1: Clean the Extracted Keywords\n",
        "    df[\"Cleaned Keywords\"] = df[\"Extracted Keywords\"].apply(clean_keywords)\n",
        "\n",
        "    # Step 2: Refine Keywords with LLM\n",
        "    df[\"Refined Keywords\"] = df.apply(\n",
        "        lambda row: refine_keywords_with_llm(row[\"Cleaned Keywords\"], theme),\n",
        "        axis=1\n",
        "    )\n",
        "\n",
        "    # Step 3: Assign Themes\n",
        "    df[\"Themes\"] = df[\"Refined Keywords\"].apply(assign_themes)\n",
        "\n",
        "    # Append processed DataFrame to the list\n",
        "    processed_data.append(df)\n"
      ],
      "metadata": {
        "id": "_tm2OrZHPtNg"
      },
      "execution_count": null,
      "outputs": []
    },
    {
      "cell_type": "markdown",
      "source": [
        "Step 3: Merge and Save Final Dataset"
      ],
      "metadata": {
        "id": "ng4nRaRtPwm1"
      }
    },
    {
      "cell_type": "code",
      "source": [
        "# Merge all processed datasets\n",
        "final_df = pd.concat(processed_data, ignore_index=True)\n",
        "\n",
        "# Drop intermediate columns if not needed\n",
        "final_df = final_df.drop(columns=[\"Cleaned Keywords\", \"Refined Keywords\"])\n",
        "\n",
        "# Save the final dataset\n",
        "final_df.to_csv(\"final_dataset.csv\", index=False)\n",
        "\n",
        "# Display the resulting DataFrame\n",
        "print(\"Final dataset saved as 'final_dataset.csv'\")\n",
        "print(final_df.head())\n"
      ],
      "metadata": {
        "id": "DuxJubNwP0v4"
      },
      "execution_count": null,
      "outputs": []
    }
  ]
}