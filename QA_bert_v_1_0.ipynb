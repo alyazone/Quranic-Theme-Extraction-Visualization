{
  "nbformat": 4,
  "nbformat_minor": 0,
  "metadata": {
    "colab": {
      "provenance": [],
      "gpuType": "T4",
      "authorship_tag": "ABX9TyOJ/wHVYG4zgFodMcJ9SBU5",
      "include_colab_link": true
    },
    "kernelspec": {
      "name": "python3",
      "display_name": "Python 3"
    },
    "language_info": {
      "name": "python"
    },
    "accelerator": "GPU"
  },
  "cells": [
    {
      "cell_type": "markdown",
      "metadata": {
        "id": "view-in-github",
        "colab_type": "text"
      },
      "source": [
        "<a href=\"https://colab.research.google.com/github/alyazone/Quranic-Theme-Extraction-Visualization/blob/main/QA_bert_v_1_0.ipynb\" target=\"_parent\"><img src=\"https://colab.research.google.com/assets/colab-badge.svg\" alt=\"Open In Colab\"/></a>"
      ]
    },
    {
      "cell_type": "code",
      "execution_count": null,
      "metadata": {
        "colab": {
          "base_uri": "https://localhost:8080/"
        },
        "id": "bV6fgB12odbp",
        "outputId": "d78c0931-88ef-441c-c5c5-396e67292820"
      },
      "outputs": [
        {
          "output_type": "stream",
          "name": "stdout",
          "text": [
            "Requirement already satisfied: transformers in /usr/local/lib/python3.10/dist-packages (4.44.2)\n",
            "Requirement already satisfied: torch in /usr/local/lib/python3.10/dist-packages (2.5.0+cu121)\n",
            "Requirement already satisfied: filelock in /usr/local/lib/python3.10/dist-packages (from transformers) (3.16.1)\n",
            "Requirement already satisfied: huggingface-hub<1.0,>=0.23.2 in /usr/local/lib/python3.10/dist-packages (from transformers) (0.24.7)\n",
            "Requirement already satisfied: numpy>=1.17 in /usr/local/lib/python3.10/dist-packages (from transformers) (1.26.4)\n",
            "Requirement already satisfied: packaging>=20.0 in /usr/local/lib/python3.10/dist-packages (from transformers) (24.1)\n",
            "Requirement already satisfied: pyyaml>=5.1 in /usr/local/lib/python3.10/dist-packages (from transformers) (6.0.2)\n",
            "Requirement already satisfied: regex!=2019.12.17 in /usr/local/lib/python3.10/dist-packages (from transformers) (2024.9.11)\n",
            "Requirement already satisfied: requests in /usr/local/lib/python3.10/dist-packages (from transformers) (2.32.3)\n",
            "Requirement already satisfied: safetensors>=0.4.1 in /usr/local/lib/python3.10/dist-packages (from transformers) (0.4.5)\n",
            "Requirement already satisfied: tokenizers<0.20,>=0.19 in /usr/local/lib/python3.10/dist-packages (from transformers) (0.19.1)\n",
            "Requirement already satisfied: tqdm>=4.27 in /usr/local/lib/python3.10/dist-packages (from transformers) (4.66.6)\n",
            "Requirement already satisfied: typing-extensions>=4.8.0 in /usr/local/lib/python3.10/dist-packages (from torch) (4.12.2)\n",
            "Requirement already satisfied: networkx in /usr/local/lib/python3.10/dist-packages (from torch) (3.4.2)\n",
            "Requirement already satisfied: jinja2 in /usr/local/lib/python3.10/dist-packages (from torch) (3.1.4)\n",
            "Requirement already satisfied: fsspec in /usr/local/lib/python3.10/dist-packages (from torch) (2024.10.0)\n",
            "Requirement already satisfied: sympy==1.13.1 in /usr/local/lib/python3.10/dist-packages (from torch) (1.13.1)\n",
            "Requirement already satisfied: mpmath<1.4,>=1.1.0 in /usr/local/lib/python3.10/dist-packages (from sympy==1.13.1->torch) (1.3.0)\n",
            "Requirement already satisfied: MarkupSafe>=2.0 in /usr/local/lib/python3.10/dist-packages (from jinja2->torch) (3.0.2)\n",
            "Requirement already satisfied: charset-normalizer<4,>=2 in /usr/local/lib/python3.10/dist-packages (from requests->transformers) (3.4.0)\n",
            "Requirement already satisfied: idna<4,>=2.5 in /usr/local/lib/python3.10/dist-packages (from requests->transformers) (3.10)\n",
            "Requirement already satisfied: urllib3<3,>=1.21.1 in /usr/local/lib/python3.10/dist-packages (from requests->transformers) (2.2.3)\n",
            "Requirement already satisfied: certifi>=2017.4.17 in /usr/local/lib/python3.10/dist-packages (from requests->transformers) (2024.8.30)\n"
          ]
        }
      ],
      "source": [
        "!pip install transformers torch"
      ]
    },
    {
      "cell_type": "code",
      "source": [
        "from transformers import pipeline\n",
        "\n",
        "# Load the QA pipeline with the pre-trained model\n",
        "qa_pipeline = pipeline(\"question-answering\", model=\"google-bert/bert-large-uncased-whole-word-masking-finetuned-squad\")\n"
      ],
      "metadata": {
        "colab": {
          "base_uri": "https://localhost:8080/"
        },
        "id": "mI6vGkeuosIt",
        "outputId": "ae3cbabc-69c4-4d32-d480-b9190459f922"
      },
      "execution_count": null,
      "outputs": [
        {
          "output_type": "stream",
          "name": "stderr",
          "text": [
            "Some weights of the model checkpoint at google-bert/bert-large-uncased-whole-word-masking-finetuned-squad were not used when initializing BertForQuestionAnswering: ['bert.pooler.dense.bias', 'bert.pooler.dense.weight']\n",
            "- This IS expected if you are initializing BertForQuestionAnswering from the checkpoint of a model trained on another task or with another architecture (e.g. initializing a BertForSequenceClassification model from a BertForPreTraining model).\n",
            "- This IS NOT expected if you are initializing BertForQuestionAnswering from the checkpoint of a model that you expect to be exactly identical (initializing a BertForSequenceClassification model from a BertForSequenceClassification model).\n",
            "Hardware accelerator e.g. GPU is available in the environment, but no `device` argument is passed to the `Pipeline` object. Model will be on CPU.\n"
          ]
        }
      ]
    },
    {
      "cell_type": "code",
      "source": [
        "# sample data for QA\n",
        "data = [\n",
        "    {\"verse\": \"Indeed, Allah is with those who fear Him and those who are doers of good.\",\n",
        "     \"question\": \"Who is Allah with?\"},\n",
        "    {\"verse\": \"And seek help through patience and prayer. Indeed, it is difficult except for the humble.\",\n",
        "     \"question\": \"Who finds prayer difficult?\"},\n",
        "    {\"verse\": \"If two (men) among you are guilty of such acts then punish both of them. But if they repent and reform, let them be, for God accepts repentance and is merciful.\",\n",
        "     \"question\": \"How does this verse show God's attitude toward repentance?\"},\n",
        "    {\"verse\": \"We have sent no apostle but that he should be obeyed by the will of God. If they had come to you after wronging themselves and asked forgiveness of God, and you had also asked forgiveness for them, they would surely have found God forgiving and merciful.\",\n",
        "     \"question\": \"How does this verse reflect God's mercy and willingness to forgive?\"},\n",
        "    {\"verse\": \"Those who accept the faith, then disbelieve, then return to it, and deny once again and increase in disbelief, will not be forgiven by God or be guided by Him.\",\n",
        "      \"question\": \"What does the verse indicate about God's forgiveness for those who continually disbelieve?\"}\n",
        "]"
      ],
      "metadata": {
        "id": "yBqDr9o9osR_"
      },
      "execution_count": null,
      "outputs": []
    },
    {
      "cell_type": "code",
      "source": [
        "def get_answers(data):\n",
        "    for entry in data:\n",
        "        result = qa_pipeline(question=entry[\"question\"], context=entry[\"verse\"])\n",
        "        print(f\"Question: {entry['question']}\")\n",
        "        print(f\"Answer: {result['answer']}\\n\")\n",
        "\n",
        "# answers for the sample data\n",
        "get_answers(data)"
      ],
      "metadata": {
        "colab": {
          "base_uri": "https://localhost:8080/"
        },
        "id": "E4VituU8osUV",
        "outputId": "a3ce0ef8-0a21-46d6-a6ef-3a097521f123"
      },
      "execution_count": null,
      "outputs": [
        {
          "output_type": "stream",
          "name": "stdout",
          "text": [
            "Question: Who is Allah with?\n",
            "Answer: those who fear Him and those who are doers of good\n",
            "\n",
            "Question: Who finds prayer difficult?\n",
            "Answer: the humble\n",
            "\n",
            "Question: How does this verse show God's attitude toward repentance?\n",
            "Answer: God accepts repentance and is merciful\n",
            "\n",
            "Question: How does this verse reflect God's mercy and willingness to forgive?\n",
            "Answer: forgiving and merciful.\n",
            "\n",
            "Question: What does the verse indicate about God's forgiveness for those who continually disbelieve?\n",
            "Answer: will not be forgiven by God or be guided by Him\n",
            "\n"
          ]
        }
      ]
    },
    {
      "cell_type": "markdown",
      "source": [
        "improvement: need to fine-tuning\n",
        "1. prepare fine-tuning dataset (json) to let the model have better understanding about Quran-specific terminology or improve its accuracy\n",
        "2. fine-tune the QA model"
      ],
      "metadata": {
        "id": "SJaWGxSDEvdD"
      }
    }
  ]
}