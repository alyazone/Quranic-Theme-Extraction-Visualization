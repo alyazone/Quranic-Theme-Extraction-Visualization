{
 "cells": [
  {
   "cell_type": "code",
   "execution_count": 5,
   "id": "295648bb",
   "metadata": {},
   "outputs": [
    {
     "name": "stdout",
     "output_type": "stream",
     "text": [
      "Rows with the footer have been removed and saved to a new file.\n"
     ]
    }
   ],
   "source": [
    "import pandas as pd\n",
    "\n",
    "# to remove unwanted data (footer of the NobleQuran website)\n",
    "\n",
    "df = pd.read_csv('translation-scrape-latest.csv')\n",
    "\n",
    "footer_keywords = [\"Copyright © 2020 Noble Quran\", \"Powered by nHancesolutions.com\"]\n",
    "\n",
    "# filters out rows where the translation column contains any of the specified footer text\n",
    "\n",
    "df_cleaned = df[~df['Verse Translation'].isin(footer_keywords)] # tilde ~ negates the condition, meaning those rows are excluded\n",
    "\n",
    "df_cleaned.to_csv('cleaned_quran_translations.csv', index=False)\n",
    "\n",
    "print(\"Rows with the footer have been removed and saved to a new file.\")\n"
   ]
  },
  {
   "cell_type": "code",
   "execution_count": 5,
   "id": "bf6c59ce",
   "metadata": {},
   "outputs": [
    {
     "name": "stdout",
     "output_type": "stream",
     "text": [
      "New 'Number Chapter and Verse' column created and chapter/verse numbers removed successfully.\n"
     ]
    }
   ],
   "source": [
    "import pandas as pd\n",
    "\n",
    "# to extract chapter and verse number and create new column contain chapter number : verse number \n",
    "# UPDATE NEED TO DO: remove the extracted number (chapter and verses) and\n",
    "# letak space lepas no. 2 dkt first column for 2nd chap\n",
    "# make sure kena wrap text dulu (dkt csv bawah ni)\n",
    "\n",
    "# Step 1: Load your data (replace 'cleaned_quran_translation.csv' with your actual CSV file)\n",
    "df = pd.read_csv('cleaned_quran_translation.csv')\n",
    "\n",
    "# Step 2: Extract chapter number from 'Surah Name'\n",
    "# Split on the first space and take the first element (which is the chapter number)\n",
    "df['Chapter Number'] = df['Surah Name'].str.split(' ', n=1).str[0].str.replace('.', '')\n",
    "\n",
    "# Remove the chapter number from the 'Surah Name' column to keep only the Surah name\n",
    "df['Surah Name'] = df['Surah Name'].str.split(' ', n=1).str[1].str.strip()\n",
    "\n",
    "# Step 3: Extract verse number from 'Verse Translation'\n",
    "# Split on the first '.' and take the first element (which is the verse number)\n",
    "df['Verse Number'] = df['Verse Translation'].astype(str).str.split('.').str[0].str.strip()\n",
    "\n",
    "# Remove the verse number from the 'Verse Translation' column\n",
    "# Ensure that only rows with a period have the verse number removed\n",
    "def remove_verse_number(text):\n",
    "    if isinstance(text, str):  # Check if the text is a string\n",
    "        parts = text.split('.', 1)  # Split into two parts on the first period\n",
    "        return parts[1].strip() if len(parts) > 1 else text  # Keep only the text after the period\n",
    "    return text  # Return as is if not a string\n",
    "\n",
    "df['Verse Translation'] = df['Verse Translation'].apply(remove_verse_number)\n",
    "\n",
    "# Step 4: Create the new 'Number Chapter and Verse' column in the format [chapter:verse]\n",
    "df['Number Chapter and Verse'] = df['Chapter Number'] + ':' + df['Verse Number']\n",
    "\n",
    "# Step 5: Drop the temporary 'Chapter Number' and 'Verse Number' columns\n",
    "df.drop(columns=['Chapter Number', 'Verse Number'], inplace=True)\n",
    "\n",
    "# Step 6: Save the updated DataFrame to a new CSV file\n",
    "df.to_csv('updated_quran_translation.csv', index=False)\n",
    "\n",
    "print(\"New 'Number Chapter and Verse' column created and chapter/verse numbers removed successfully.\")\n"
   ]
  },
  {
   "cell_type": "code",
   "execution_count": null,
   "id": "64b02135",
   "metadata": {},
   "outputs": [],
   "source": []
  }
 ],
 "metadata": {
  "kernelspec": {
   "display_name": "Python 3 (ipykernel)",
   "language": "python",
   "name": "python3"
  },
  "language_info": {
   "codemirror_mode": {
    "name": "ipython",
    "version": 3
   },
   "file_extension": ".py",
   "mimetype": "text/x-python",
   "name": "python",
   "nbconvert_exporter": "python",
   "pygments_lexer": "ipython3",
   "version": "3.11.5"
  }
 },
 "nbformat": 4,
 "nbformat_minor": 5
}
