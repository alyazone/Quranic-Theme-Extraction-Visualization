{
 "cells": [
  {
   "cell_type": "code",
   "execution_count": 5,
   "id": "295648bb",
   "metadata": {},
   "outputs": [
    {
     "name": "stdout",
     "output_type": "stream",
     "text": [
      "Rows with the footer have been removed and saved to a new file.\n"
     ]
    }
   ],
   "source": [
    "import pandas as pd\n",
    "\n",
    "# to remove unwanted data (footer of the NobleQuran website)\n",
    "\n",
    "df = pd.read_csv('translation-scrape-latest.csv')\n",
    "\n",
    "footer_keywords = [\"Copyright © 2020 Noble Quran\", \"Powered by nHancesolutions.com\"]\n",
    "\n",
    "# filters out rows where the translation column contains any of the specified footer text\n",
    "\n",
    "df_cleaned = df[~df['Verse Translation'].isin(footer_keywords)] # tilde ~ negates the condition, meaning those rows are excluded\n",
    "\n",
    "df_cleaned.to_csv('cleaned_quran_translations.csv', index=False)\n",
    "\n",
    "print(\"Rows with the footer have been removed and saved to a new file.\")\n"
   ]
  },
  {
   "cell_type": "code",
   "execution_count": 9,
   "id": "bf6c59ce",
   "metadata": {},
   "outputs": [
    {
     "name": "stdout",
     "output_type": "stream",
     "text": [
      "New 'Number Chapter and Verse' column created successfully.\n"
     ]
    }
   ],
   "source": [
    "import pandas as pd\n",
    "\n",
    "# to extract chapter and verse number and create new column contain chapter number : verse number \n",
    "# UPDATE NEED TO DO: remove the extracted number (chapter and verses) and\n",
    "# letak space lepas no. 2 dkt first column for 2nd chap\n",
    "# make sure kena wrap text dulu (dkt csv bawah ni)\n",
    "\n",
    "df = pd.read_csv('cleaned_quran_translation.csv') # read file that have been cleaned (remove footer)\n",
    "\n",
    "# Step 2: Extract chapter number from 'Surah Name'\n",
    "# Split on the first space and take the first element (which is the chapter number)\n",
    "df['Chapter Number'] = df['Surah Name'].str.split(' ', n=1).str[0].str.replace('.', '')\n",
    "\n",
    "# Step 3: Extract verse number from 'Verse Translation'\n",
    "# Split on the first '.' and take the first element (which is the verse number)\n",
    "df['Verse Number'] = df['Verse Translation'].str.split('.').str[0].str.replace('.', '').str.strip()\n",
    "\n",
    "# Step 4: Create the new 'Number Chapter and Verse' column in the format [chapter:verse]\n",
    "df['Number Chapter and Verse'] = df['Chapter Number'] + ':' + df['Verse Number']\n",
    "\n",
    "# Step 5: Drop the temporary 'Chapter Number' and 'Verse Number' columns if no longer needed\n",
    "df.drop(columns=['Chapter Number', 'Verse Number'], inplace=True)\n",
    "\n",
    "# Step 6: Save the updated DataFrame to a new CSV file\n",
    "df.to_csv('updated_cleaned_quran_translation.csv', index=False)\n",
    "\n",
    "print(\"New 'Number Chapter and Verse' column created successfully.\")\n"
   ]
  }
 ],
 "metadata": {
  "kernelspec": {
   "display_name": "Python 3 (ipykernel)",
   "language": "python",
   "name": "python3"
  },
  "language_info": {
   "codemirror_mode": {
    "name": "ipython",
    "version": 3
   },
   "file_extension": ".py",
   "mimetype": "text/x-python",
   "name": "python",
   "nbconvert_exporter": "python",
   "pygments_lexer": "ipython3",
   "version": "3.11.5"
  }
 },
 "nbformat": 4,
 "nbformat_minor": 5
}
