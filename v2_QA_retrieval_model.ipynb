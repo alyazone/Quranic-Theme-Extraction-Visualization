{
  "cells": [
    {
      "cell_type": "markdown",
      "metadata": {
        "id": "view-in-github",
        "colab_type": "text"
      },
      "source": [
        "<a href=\"https://colab.research.google.com/github/alyazone/Quranic-Theme-Extraction-Visualization/blob/main/v2_QA_retrieval_model.ipynb\" target=\"_parent\"><img src=\"https://colab.research.google.com/assets/colab-badge.svg\" alt=\"Open In Colab\"/></a>"
      ]
    },
    {
      "cell_type": "code",
      "execution_count": null,
      "id": "efb5170c",
      "metadata": {
        "id": "efb5170c",
        "outputId": "9c75224d-0f2c-447d-e956-f222a6fd1875"
      },
      "outputs": [
        {
          "name": "stderr",
          "output_type": "stream",
          "text": [
            "C:\\Users\\alyam\\anaconda3\\envs\\new_clean_env\\lib\\site-packages\\tqdm\\auto.py:21: TqdmWarning: IProgress not found. Please update jupyter and ipywidgets. See https://ipywidgets.readthedocs.io/en/stable/user_install.html\n",
            "  from .autonotebook import tqdm as notebook_tqdm\n"
          ]
        },
        {
          "name": "stdout",
          "output_type": "stream",
          "text": [
            "Predicted Theme: Forgiveness\n",
            "Retrieved Verses:\n",
            "     Chapter Number  Verse Number  \\\n",
            "0                 1             1   \n",
            "1                 1             3   \n",
            "2                 2            37   \n",
            "3                 2            52   \n",
            "4                 2            54   \n",
            "..              ...           ...   \n",
            "548              92            16   \n",
            "566              25            75   \n",
            "596               4           147   \n",
            "619              14             5   \n",
            "675              70            34   \n",
            "\n",
            "                                    Translation Verses  \n",
            "0    In the name of Allah, most benevolent, ever-me...  \n",
            "1                      Most beneficent, ever-merciful,  \n",
            "2    Then his Lord sent commands to Adam and turned...  \n",
            "3    Even so, We pardoned you that you may be grate...  \n",
            "4    Remember, Moses said: \"My people, by taking th...  \n",
            "..                                                 ...  \n",
            "548            Who denied (the truth) and turned away.  \n",
            "566  They will be rewarded for their perseverance w...  \n",
            "596  Why should God punish you if you acknowledge t...  \n",
            "619  Remember when We sent Moses with Our signs (We...  \n",
            "675  And those who are mindful of their moral oblig...  \n",
            "\n",
            "[382 rows x 3 columns]\n"
          ]
        }
      ],
      "source": [
        "import pandas as pd\n",
        "from transformers import AutoTokenizer, AutoModelForSequenceClassification\n",
        "\n",
        "# Load the dataset\n",
        "df = pd.read_csv(\"final-fine-tuning-dataset.csv\")  # Ensure it has 'Chapter Number', 'Verse Number', 'Translation Verses', and 'Mapped Theme'\n",
        "\n",
        "# Load the fine-tuned model and tokenizer\n",
        "model_name = \"./v2_fine_tuned_theme_classifier\"\n",
        "theme_model = AutoModelForSequenceClassification.from_pretrained(model_name)\n",
        "theme_tokenizer = AutoTokenizer.from_pretrained(model_name)\n",
        "\n",
        "# Function to process a query\n",
        "def process_query(query):\n",
        "    # Tokenize and classify the query\n",
        "    inputs = theme_tokenizer(query, return_tensors=\"pt\", truncation=True, padding=True)\n",
        "    outputs = theme_model(**inputs)\n",
        "    predicted_label = outputs.logits.argmax().item()\n",
        "\n",
        "    # Map the label to a theme\n",
        "    label_to_theme = {0: \"Forgiveness\", 1: \"Gratitude\", 2: \"Patience\", 3: \"Truthfulness\"}\n",
        "    theme = label_to_theme[predicted_label]\n",
        "    print(f\"Predicted Theme: {theme}\")\n",
        "\n",
        "    # Retrieve verses for the predicted theme\n",
        "    results = df[df[\"Mapped Theme\"] == theme][[\"Chapter Number\", \"Verse Number\", \"Translation Verses\"]]\n",
        "\n",
        "    return theme, results\n",
        "\n",
        "# Example query\n",
        "query = \"Show me all the verses related to repentance\"\n",
        "theme, verses = process_query(query)\n",
        "\n",
        "# Print results for testing\n",
        "print(\"Retrieved Verses:\")\n",
        "print(verses)\n",
        "\n",
        "# distribution theme in the datasets\n",
        "# Forgiveness     382\n",
        "# Truthfulness    185\n",
        "# Gratitude        87\n",
        "# Patience         29"
      ]
    },
    {
      "cell_type": "code",
      "execution_count": null,
      "id": "98b191fe",
      "metadata": {
        "id": "98b191fe"
      },
      "outputs": [],
      "source": []
    },
    {
      "cell_type": "code",
      "execution_count": null,
      "id": "a875b1b2",
      "metadata": {
        "id": "a875b1b2"
      },
      "outputs": [],
      "source": []
    }
  ],
  "metadata": {
    "kernelspec": {
      "display_name": "Python (new_clean_env)",
      "language": "python",
      "name": "new_clean_env"
    },
    "language_info": {
      "codemirror_mode": {
        "name": "ipython",
        "version": 3
      },
      "file_extension": ".py",
      "mimetype": "text/x-python",
      "name": "python",
      "nbconvert_exporter": "python",
      "pygments_lexer": "ipython3",
      "version": "3.9.20"
    },
    "colab": {
      "provenance": [],
      "include_colab_link": true
    }
  },
  "nbformat": 4,
  "nbformat_minor": 5
}